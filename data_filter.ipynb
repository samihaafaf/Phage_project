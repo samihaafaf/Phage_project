{
 "cells": [
  {
   "cell_type": "markdown",
   "id": "32dce39d",
   "metadata": {},
   "source": [
    "## Data Source\n",
    "\n",
    "The following files used in this project were obtained from the [INPHARED GitHub repository](https://github.com/RyanCook94/inphared?tab=readme-ov-file):\n",
    "\n",
    "- `14Apr2025_data_excluding_refseq.tsv`\n",
    "- `14Apr2025_genomes_excluding_refseq.fa`\n",
    "\n"
   ]
  },
  {
   "cell_type": "code",
   "execution_count": 1,
   "id": "166e1278",
   "metadata": {},
   "outputs": [],
   "source": [
    "import pandas as pd"
   ]
  },
  {
   "cell_type": "code",
   "execution_count": null,
   "id": "0a34b151",
   "metadata": {},
   "outputs": [],
   "source": [
    "\n",
    "# importing metadata for viral genomes\n",
    "background_data = pd.read_csv('data/14Apr2025_data_excluding_refseq.tsv', sep='\\t')"
   ]
  },
  {
   "cell_type": "code",
   "execution_count": 3,
   "id": "2a254fc4",
   "metadata": {},
   "outputs": [
    {
     "data": {
      "text/plain": [
       "22"
      ]
     },
     "execution_count": 3,
     "metadata": {},
     "output_type": "execute_result"
    }
   ],
   "source": [
    "# selecting host with atleast 200 viral genome entries\n",
    "\n",
    "pd.set_option('display.max_rows', None)\n",
    "host_counts = background_data['Host'].value_counts()\n",
    "\n",
    "\n",
    "host_counts = host_counts[host_counts > 200]\n",
    "\n",
    "selected_hosts = host_counts.index.tolist()[1:]\n",
    "len(selected_hosts)\n"
   ]
  },
  {
   "cell_type": "code",
   "execution_count": 12,
   "id": "bd9102a8",
   "metadata": {},
   "outputs": [
    {
     "data": {
      "text/plain": [
       "(20277, 27)"
      ]
     },
     "execution_count": 12,
     "metadata": {},
     "output_type": "execute_result"
    }
   ],
   "source": [
    "filtered_df = background_data[background_data['Host'].isin(selected_hosts)]\n",
    "filtered_df.shape"
   ]
  },
  {
   "cell_type": "markdown",
   "id": "01e12cdc",
   "metadata": {},
   "source": [
    "### Loading and Working with FASTA File\n",
    "\n",
    "The file `14Apr2025_genomes_excluding_refseq.fa` contains phage genome sequences in FASTA format.\n"
   ]
  },
  {
   "cell_type": "code",
   "execution_count": 5,
   "id": "412c7627",
   "metadata": {},
   "outputs": [
    {
     "name": "stderr",
     "output_type": "stream",
     "text": [
      "Processing Sequences: 100%|██████████| 28665/28665 [00:08<00:00, 3580.27it/s]\n"
     ]
    }
   ],
   "source": [
    "# taking sequences with \"complete genome\" or \"complete sequence\" in description\n",
    "\n",
    "from Bio import SeqIO\n",
    "from tqdm import tqdm\n",
    "\n",
    "fasta_file = \"data/14Apr2025_genomes_excluding_refseq.fa\"\n",
    "fasta_data = []\n",
    "\n",
    "for record in tqdm(SeqIO.parse(fasta_file, \"fasta\"), total=28665, desc=\"Processing Sequences\"):\n",
    "    seq_id = record.id           \n",
    "    description = record.description  \n",
    "    sequence = str(record.seq)   \n",
    "    if \"complete genome\" in description or \"complete sequence\" in description:\n",
    "        fasta_data.append({\n",
    "        \"id\": seq_id,\n",
    "        \"description\": description,\n",
    "        \"sequence\": sequence,\n",
    "        \"length\": len(sequence)\n",
    "    })\n",
    "\n",
    "fasta_df = pd.DataFrame(fasta_data)\n",
    "\n",
    "\n"
   ]
  },
  {
   "cell_type": "markdown",
   "id": "397606d3",
   "metadata": {},
   "source": [
    "### Matching Accession and Reducing FASTA Entries\n",
    "\n",
    "To ensure consistency between metadata and genome sequences, accession identifiers from the `14Apr2025_data_excluding_refseq.tsv` file were matched with the entries in the FASTA file and vice versa.\n",
    "\n"
   ]
  },
  {
   "cell_type": "code",
   "execution_count": 13,
   "id": "2fe1140e",
   "metadata": {},
   "outputs": [
    {
     "data": {
      "text/plain": [
       "((20277, 27), (25075, 4))"
      ]
     },
     "execution_count": 13,
     "metadata": {},
     "output_type": "execute_result"
    }
   ],
   "source": [
    "filtered_df.shape, fasta_df.shape"
   ]
  },
  {
   "cell_type": "code",
   "execution_count": null,
   "id": "2d79c6b4",
   "metadata": {},
   "outputs": [],
   "source": [
    "#delete rows that have less variability in values and relevance\n",
    "\n",
    "filtered_df = filtered_df.drop(columns=['Jumbophage', 'Modification Date'\n",
    "                                   , 'Low Coding Capacity Warning', 'Genbank Division',\n",
    "                                   'Isolation Host (beware inconsistent and nonsense values)'])\n",
    "       "
   ]
  },
  {
   "cell_type": "code",
   "execution_count": 15,
   "id": "81ab2392",
   "metadata": {},
   "outputs": [
    {
     "data": {
      "text/plain": [
       "Index(['Accession', 'Description', 'Classification', 'Genome Length (bp)',\n",
       "       'molGC (%)', 'Molecule', 'Number CDS', 'Positive Strand (%)',\n",
       "       'Negative Strand (%)', 'Coding Capacity(%)', 'tRNAs', 'Host',\n",
       "       'Lowest Taxa', 'Genus', 'Sub-family', 'Family', 'Order', 'Class',\n",
       "       'Phylum', 'Kingdom', 'Realm', 'Baltimore Group'],\n",
       "      dtype='object')"
      ]
     },
     "execution_count": 15,
     "metadata": {},
     "output_type": "execute_result"
    }
   ],
   "source": [
    "filtered_df.columns"
   ]
  },
  {
   "cell_type": "code",
   "execution_count": 61,
   "id": "192b477b",
   "metadata": {},
   "outputs": [
    {
     "data": {
      "text/html": [
       "<div>\n",
       "<style scoped>\n",
       "    .dataframe tbody tr th:only-of-type {\n",
       "        vertical-align: middle;\n",
       "    }\n",
       "\n",
       "    .dataframe tbody tr th {\n",
       "        vertical-align: top;\n",
       "    }\n",
       "\n",
       "    .dataframe thead th {\n",
       "        text-align: right;\n",
       "    }\n",
       "</style>\n",
       "<table border=\"1\" class=\"dataframe\">\n",
       "  <thead>\n",
       "    <tr style=\"text-align: right;\">\n",
       "      <th></th>\n",
       "      <th>id</th>\n",
       "      <th>description</th>\n",
       "      <th>sequence</th>\n",
       "      <th>length</th>\n",
       "    </tr>\n",
       "  </thead>\n",
       "  <tbody>\n",
       "    <tr>\n",
       "      <th>0</th>\n",
       "      <td>PP099880</td>\n",
       "      <td>PP099880 Erwinia phage RH-42-1, complete genome.</td>\n",
       "      <td>GGGGATACGTGCCCCTCCACCGCCACCCGCACCCCCTACCAAAATT...</td>\n",
       "      <td>14942</td>\n",
       "    </tr>\n",
       "  </tbody>\n",
       "</table>\n",
       "</div>"
      ],
      "text/plain": [
       "         id                                       description  \\\n",
       "0  PP099880  PP099880 Erwinia phage RH-42-1, complete genome.   \n",
       "\n",
       "                                            sequence  length  \n",
       "0  GGGGATACGTGCCCCTCCACCGCCACCCGCACCCCCTACCAAAATT...   14942  "
      ]
     },
     "execution_count": 61,
     "metadata": {},
     "output_type": "execute_result"
    }
   ],
   "source": [
    "fasta_df.head(1)"
   ]
  },
  {
   "cell_type": "code",
   "execution_count": 16,
   "id": "9213fe43",
   "metadata": {},
   "outputs": [
    {
     "data": {
      "text/plain": [
       "(17424, 4)"
      ]
     },
     "execution_count": 16,
     "metadata": {},
     "output_type": "execute_result"
    }
   ],
   "source": [
    "# mapping metadata file -> fasta\n",
    "\n",
    "fasta_df = fasta_df[fasta_df['id'].isin(filtered_df['Accession'])]\n",
    "fasta_df.shape"
   ]
  },
  {
   "cell_type": "code",
   "execution_count": 17,
   "id": "f41f86a5",
   "metadata": {},
   "outputs": [
    {
     "data": {
      "text/plain": [
       "((17424, 22), (17424, 4))"
      ]
     },
     "execution_count": 17,
     "metadata": {},
     "output_type": "execute_result"
    }
   ],
   "source": [
    "# mapping fasta -> metadata file\n",
    "\n",
    "filtered_df = filtered_df[filtered_df['Accession'].isin(fasta_df['id'])]\n",
    "filtered_df.shape, fasta_df.shape"
   ]
  },
  {
   "cell_type": "code",
   "execution_count": null,
   "id": "2c7789b3",
   "metadata": {},
   "outputs": [],
   "source": [
    "filtered_df.to_csv('data/filtered_meta_data.csv', index=False)\n",
    "fasta_df.to_csv('data/filtered_fasta_data.csv', index=False)"
   ]
  },
  {
   "cell_type": "code",
   "execution_count": 84,
   "id": "d4e2d65e",
   "metadata": {},
   "outputs": [
    {
     "data": {
      "text/html": [
       "<div>\n",
       "<style scoped>\n",
       "    .dataframe tbody tr th:only-of-type {\n",
       "        vertical-align: middle;\n",
       "    }\n",
       "\n",
       "    .dataframe tbody tr th {\n",
       "        vertical-align: top;\n",
       "    }\n",
       "\n",
       "    .dataframe thead th {\n",
       "        text-align: right;\n",
       "    }\n",
       "</style>\n",
       "<table border=\"1\" class=\"dataframe\">\n",
       "  <thead>\n",
       "    <tr style=\"text-align: right;\">\n",
       "      <th></th>\n",
       "      <th>id</th>\n",
       "      <th>description</th>\n",
       "      <th>sequence</th>\n",
       "      <th>length</th>\n",
       "    </tr>\n",
       "  </thead>\n",
       "  <tbody>\n",
       "    <tr>\n",
       "      <th>2</th>\n",
       "      <td>PQ614275</td>\n",
       "      <td>PQ614275 Vibrio phage vB_VhaS_R31B, complete g...</td>\n",
       "      <td>ATGGTAGCTGTAAACAATAATGTAGTAGGTACAACGGAACAACCGT...</td>\n",
       "      <td>58583</td>\n",
       "    </tr>\n",
       "  </tbody>\n",
       "</table>\n",
       "</div>"
      ],
      "text/plain": [
       "         id                                        description  \\\n",
       "2  PQ614275  PQ614275 Vibrio phage vB_VhaS_R31B, complete g...   \n",
       "\n",
       "                                            sequence  length  \n",
       "2  ATGGTAGCTGTAAACAATAATGTAGTAGGTACAACGGAACAACCGT...   58583  "
      ]
     },
     "execution_count": 84,
     "metadata": {},
     "output_type": "execute_result"
    }
   ],
   "source": [
    "fasta_df.head(1)"
   ]
  }
 ],
 "metadata": {
  "kernelspec": {
   "display_name": "myenv",
   "language": "python",
   "name": "python3"
  },
  "language_info": {
   "codemirror_mode": {
    "name": "ipython",
    "version": 3
   },
   "file_extension": ".py",
   "mimetype": "text/x-python",
   "name": "python",
   "nbconvert_exporter": "python",
   "pygments_lexer": "ipython3",
   "version": "3.13.0"
  }
 },
 "nbformat": 4,
 "nbformat_minor": 5
}
